{
 "cells": [
  {
   "cell_type": "markdown",
   "metadata": {},
   "source": [
    "# Preprocessing the Goodreads data for the Recommendation System"
   ]
  },
  {
   "cell_type": "markdown",
   "metadata": {},
   "source": [
    "As an avid reader I was interested in creating a recommendation system for books. The social media/rating site Goodreads is the obvious source for data about books and their ratings.\n",
    "\n",
    "For this project I use the Goodreads data prepared on Kaggle:\n",
    " https://www.kaggle.com/bahramjannesarr/goodreads-book-datasets-10m\n",
    " \n",
    " This dataset contains a million books and the ratings by 6000 users. "
   ]
  },
  {
   "cell_type": "code",
   "execution_count": null,
   "metadata": {},
   "outputs": [],
   "source": []
  },
  {
   "cell_type": "markdown",
   "metadata": {},
   "source": [
    "## Combining all the separate DataFrames"
   ]
  },
  {
   "cell_type": "markdown",
   "metadata": {},
   "source": [
    "Due to the big amount of datapoints we have a number of csv files for the book information and the user ratings. I will combine them now but at the end will trim the csv files down to a manageable size that fits our purposes well."
   ]
  },
  {
   "cell_type": "code",
   "execution_count": 4,
   "metadata": {},
   "outputs": [],
   "source": [
    "import pandas as pd\n",
    "import numpy as np\n",
    "import matplotlib.pyplot as plt"
   ]
  },
  {
   "cell_type": "markdown",
   "metadata": {},
   "source": [
    "Combine the book and rating files:"
   ]
  },
  {
   "cell_type": "code",
   "execution_count": 5,
   "metadata": {},
   "outputs": [],
   "source": [
    "books_1 = pd.read_csv('CSV/book1-100k.csv', engine = 'python', encoding = 'latin-1')\n",
    "books_2 = pd.read_csv('CSV/book100k-200k.csv', engine = 'python', encoding = 'latin-1')\n",
    "books_3 = pd.read_csv('CSV/book200k-300k.csv', engine = 'python', encoding = 'latin-1')\n",
    "books_4 = pd.read_csv('CSV/book300k-400k.csv', engine = 'python', encoding = 'latin-1')\n",
    "books_5 = pd.read_csv('CSV/book400k-500k.csv', engine = 'python', encoding = 'latin-1')\n",
    "books_6 = pd.read_csv('CSV/book500k-600k.csv', engine = 'python', encoding = 'latin-1')\n",
    "books_7 = pd.read_csv('CSV/book600k-700k.csv', engine = 'python', encoding = 'latin-1')\n",
    "books_8 = pd.read_csv('CSV/book700k-800k.csv', engine = 'python', encoding = 'latin-1')\n",
    "books_9 = pd.read_csv('CSV/book800k-900k.csv', engine = 'python', encoding = 'latin-1')\n",
    "books_10 = pd.read_csv('CSV/book900k-1000k.csv', engine = 'python', encoding = 'latin-1')\n",
    "books_11 = pd.read_csv('CSV/book1000k-1100k.csv', engine = 'python', encoding = 'latin-1')\n",
    "books_12 = pd.read_csv('CSV/book1100k-1200k.csv', engine = 'python', encoding = 'latin-1')\n",
    "books_13 = pd.read_csv('CSV/book1200k-1300k.csv', engine = 'python', encoding = 'latin-1')\n",
    "books_14 = pd.read_csv('CSV/book1300k-1400k.csv', engine = 'python', encoding = 'latin-1')\n",
    "books_15 = pd.read_csv('CSV/book1400k-1500k.csv', engine = 'python', encoding = 'latin-1')\n",
    "books_16 = pd.read_csv('CSV/book1500k-1600k.csv', engine = 'python', encoding = 'latin-1')\n",
    "books_17 = pd.read_csv('CSV/book1600k-1700k.csv', engine = 'python', encoding = 'latin-1')\n",
    "books_18 = pd.read_csv('CSV/book1700k-1800k.csv', engine = 'python', encoding = 'latin-1')\n"
   ]
  },
  {
   "cell_type": "code",
   "execution_count": 6,
   "metadata": {},
   "outputs": [],
   "source": [
    "books = pd.concat([books_1,books_2,books_3,books_4,books_5,books_6,books_7,books_8,books_9,books_10,books_11,books_12,books_13,books_14,books_15,books_16,books_17,books_18]).reset_index(drop = True)"
   ]
  },
  {
   "cell_type": "code",
   "execution_count": 7,
   "metadata": {},
   "outputs": [],
   "source": [
    "ratings_1 = pd.read_csv('CSV/user_rating_0_to_1000.csv', engine = 'python', encoding = 'latin-1')\n",
    "ratings_2 = pd.read_csv('CSV/user_rating_1000_to_2000.csv', engine = 'python', encoding = 'latin-1')\n",
    "ratings_3 = pd.read_csv('CSV/user_rating_2000_to_3000.csv', engine = 'python', encoding = 'latin-1')\n",
    "ratings_4 = pd.read_csv('CSV/user_rating_3000_to_4000.csv', engine = 'python', encoding = 'latin-1')\n",
    "ratings_5 = pd.read_csv('CSV/user_rating_4000_to_5000.csv', engine = 'python', encoding = 'latin-1')\n",
    "ratings_6 = pd.read_csv('CSV/user_rating_5000_to_6000.csv', engine = 'python', encoding = 'latin-1')"
   ]
  },
  {
   "cell_type": "code",
   "execution_count": 8,
   "metadata": {},
   "outputs": [],
   "source": [
    "Ratings = pd.concat([ratings_1,ratings_2,ratings_3,ratings_4,ratings_5,ratings_6])\n"
   ]
  },
  {
   "cell_type": "code",
   "execution_count": 9,
   "metadata": {},
   "outputs": [
    {
     "data": {
      "text/plain": [
       "((303, 3), (521, 3), (580, 3), (498, 3), (471, 3), (331, 3))"
      ]
     },
     "execution_count": 9,
     "metadata": {},
     "output_type": "execute_result"
    }
   ],
   "source": [
    "(ratings_1[ratings_1['Rating']==\"This user doesn't have any rating\"].shape,ratings_2[ratings_2['Rating']==\"This user doesn't have any rating\"].shape,ratings_3[ratings_3['Rating']==\"This user doesn't have any rating\"].shape,ratings_4[ratings_4['Rating']==\"This user doesn't have any rating\"].shape,ratings_5[ratings_5['Rating']==\"This user doesn't have any rating\"].shape,ratings_6[ratings_6['Rating']==\"This user doesn't have any rating\"].shape)"
   ]
  },
  {
   "cell_type": "code",
   "execution_count": 35,
   "metadata": {},
   "outputs": [
    {
     "data": {
      "text/plain": [
       "((51945, 3), (42986, 3), (30633, 3), (46970, 3), (46903, 3), (15481, 3))"
      ]
     },
     "execution_count": 35,
     "metadata": {},
     "output_type": "execute_result"
    }
   ],
   "source": [
    "(ratings_1.shape,ratings_2.shape,ratings_3.shape,ratings_4.shape,ratings_5.shape,ratings_6.shape)"
   ]
  },
  {
   "cell_type": "markdown",
   "metadata": {},
   "source": [
    "## Editing the DataFrames"
   ]
  },
  {
   "cell_type": "markdown",
   "metadata": {},
   "source": [
    "The book file has a number of duplicate books so we proceed to delete them, while keeping the first entry:"
   ]
  },
  {
   "cell_type": "code",
   "execution_count": 10,
   "metadata": {},
   "outputs": [],
   "source": [
    "bb = books.drop_duplicates('Name', keep = 'first')"
   ]
  },
  {
   "cell_type": "code",
   "execution_count": 11,
   "metadata": {},
   "outputs": [],
   "source": [
    "bb = bb.reset_index(drop=True)"
   ]
  },
  {
   "cell_type": "markdown",
   "metadata": {},
   "source": [
    "Create a new column which gives a new ID to the books, based on the index of the file. This is makes it easier to track the books that our users rate. Then we substitute the book names in our rating file with this new Book ID."
   ]
  },
  {
   "cell_type": "code",
   "execution_count": 12,
   "metadata": {},
   "outputs": [],
   "source": [
    "bb['book_id'] = bb.index"
   ]
  },
  {
   "cell_type": "code",
   "execution_count": 13,
   "metadata": {},
   "outputs": [],
   "source": [
    "Ratings_1= pd.merge(Ratings, bb[['Name', 'book_id']], on='Name')"
   ]
  },
  {
   "cell_type": "markdown",
   "metadata": {},
   "source": [
    "### Trimming down our Rating file"
   ]
  },
  {
   "cell_type": "markdown",
   "metadata": {},
   "source": [
    "Our recommendation system will need an input which consists of rows of users and columns of books. This means that the more users and books we allow the heavier its job becomes. For this reason we decide to only allow users with 3 or more ratings. On top of this we only keep the books that were reviewed in our book Data Frame."
   ]
  },
  {
   "cell_type": "code",
   "execution_count": 14,
   "metadata": {},
   "outputs": [
    {
     "data": {
      "text/plain": [
       "8524"
      ]
     },
     "execution_count": 14,
     "metadata": {},
     "output_type": "execute_result"
    }
   ],
   "source": [
    "s = Ratings_1['book_id'].value_counts()\n",
    "Ratings_1 =Ratings_1[Ratings_1.isin(s.index[s >= 3]).book_id.values]\n",
    "bb= bb[bb.isin(s.index[s >= 3]).book_id.values]\n",
    "number_books = len(bb.book_id.value_counts())\n",
    "number_books"
   ]
  },
  {
   "cell_type": "code",
   "execution_count": 15,
   "metadata": {},
   "outputs": [
    {
     "data": {
      "text/plain": [
       "array([ True,  True,  True, ...,  True,  True,  True])"
      ]
     },
     "execution_count": 15,
     "metadata": {},
     "output_type": "execute_result"
    }
   ],
   "source": [
    "Ratings_1.isin(s.index[s >= 3]).book_id.values"
   ]
  },
  {
   "cell_type": "markdown",
   "metadata": {},
   "source": [
    "We want the Rating file ordered by user, not by book ID:"
   ]
  },
  {
   "cell_type": "code",
   "execution_count": 16,
   "metadata": {},
   "outputs": [],
   "source": [
    "Ratings_2=Ratings_1.sort_values('ID').reset_index(drop = True)"
   ]
  },
  {
   "cell_type": "raw",
   "metadata": {},
   "source": [
    "Time to reorder and rename some columns:"
   ]
  },
  {
   "cell_type": "code",
   "execution_count": 17,
   "metadata": {},
   "outputs": [],
   "source": [
    "Ratings_2 = Ratings_2.rename(columns={'ID': 'user_id'})"
   ]
  },
  {
   "cell_type": "code",
   "execution_count": 18,
   "metadata": {},
   "outputs": [],
   "source": [
    "Ratings_2 = Ratings_2.reindex(columns= ['user_id','book_id','Name', 'Rating' ])"
   ]
  },
  {
   "cell_type": "markdown",
   "metadata": {},
   "source": [
    "The rating column contains categorical data instead of numerical. We proceed to change this by giving a number to the review comment with 5 being the highest and 1 the lowest rating given. 0 will stand for no review during our recommendation process but is irrelevant at this stage"
   ]
  },
  {
   "cell_type": "code",
   "execution_count": 19,
   "metadata": {},
   "outputs": [],
   "source": [
    "Ratings_3 = Ratings_2.replace({'really liked it': 4, 'it was amazing': 5, 'liked it': 3,'it was ok': 2,'did not like it':1})"
   ]
  },
  {
   "cell_type": "code",
   "execution_count": 20,
   "metadata": {},
   "outputs": [
    {
     "data": {
      "text/plain": [
       "4    39240\n",
       "5    30026\n",
       "3    27308\n",
       "2     7752\n",
       "1     2136\n",
       "Name: Rating, dtype: int64"
      ]
     },
     "execution_count": 20,
     "metadata": {},
     "output_type": "execute_result"
    }
   ],
   "source": [
    "Ratings_3['Rating'].value_counts()"
   ]
  },
  {
   "cell_type": "code",
   "execution_count": 21,
   "metadata": {},
   "outputs": [],
   "source": [
    "nb_books = len(bb)"
   ]
  },
  {
   "cell_type": "code",
   "execution_count": 22,
   "metadata": {},
   "outputs": [],
   "source": [
    "bb = bb.reset_index()\n",
    "bb['book_id'] = bb.index"
   ]
  },
  {
   "cell_type": "code",
   "execution_count": 23,
   "metadata": {},
   "outputs": [
    {
     "data": {
      "text/plain": [
       "array([   0,    1,    2, ..., 8521, 8522, 8523])"
      ]
     },
     "execution_count": 23,
     "metadata": {},
     "output_type": "execute_result"
    }
   ],
   "source": [
    "bb.book_id.values"
   ]
  },
  {
   "cell_type": "markdown",
   "metadata": {},
   "source": [
    "We now prepare the final rating file with the column order being : uder ID, book ID and Rating:"
   ]
  },
  {
   "cell_type": "code",
   "execution_count": 24,
   "metadata": {},
   "outputs": [],
   "source": [
    "Ratings_3 = Ratings_3.drop('book_id', axis =1)\n",
    "Ratings_4 = pd.merge(Ratings_3, bb[['Name', 'book_id']], on='Name')\n",
    "Final_Ratings = (Ratings_4.reindex(columns= ['user_id','book_id', 'Rating' ])).sort_values(by = 'user_id')"
   ]
  },
  {
   "cell_type": "code",
   "execution_count": 25,
   "metadata": {},
   "outputs": [
    {
     "data": {
      "text/html": [
       "<div>\n",
       "<style scoped>\n",
       "    .dataframe tbody tr th:only-of-type {\n",
       "        vertical-align: middle;\n",
       "    }\n",
       "\n",
       "    .dataframe tbody tr th {\n",
       "        vertical-align: top;\n",
       "    }\n",
       "\n",
       "    .dataframe thead th {\n",
       "        text-align: right;\n",
       "    }\n",
       "</style>\n",
       "<table border=\"1\" class=\"dataframe\">\n",
       "  <thead>\n",
       "    <tr style=\"text-align: right;\">\n",
       "      <th></th>\n",
       "      <th>user_id</th>\n",
       "      <th>book_id</th>\n",
       "      <th>Rating</th>\n",
       "    </tr>\n",
       "  </thead>\n",
       "  <tbody>\n",
       "    <tr>\n",
       "      <th>0</th>\n",
       "      <td>1</td>\n",
       "      <td>22</td>\n",
       "      <td>5</td>\n",
       "    </tr>\n",
       "    <tr>\n",
       "      <th>14116</th>\n",
       "      <td>1</td>\n",
       "      <td>6773</td>\n",
       "      <td>5</td>\n",
       "    </tr>\n",
       "    <tr>\n",
       "      <th>14122</th>\n",
       "      <td>1</td>\n",
       "      <td>373</td>\n",
       "      <td>5</td>\n",
       "    </tr>\n",
       "    <tr>\n",
       "      <th>14144</th>\n",
       "      <td>1</td>\n",
       "      <td>187</td>\n",
       "      <td>4</td>\n",
       "    </tr>\n",
       "    <tr>\n",
       "      <th>14259</th>\n",
       "      <td>1</td>\n",
       "      <td>985</td>\n",
       "      <td>4</td>\n",
       "    </tr>\n",
       "    <tr>\n",
       "      <th>...</th>\n",
       "      <td>...</td>\n",
       "      <td>...</td>\n",
       "      <td>...</td>\n",
       "    </tr>\n",
       "    <tr>\n",
       "      <th>88643</th>\n",
       "      <td>5993</td>\n",
       "      <td>1145</td>\n",
       "      <td>3</td>\n",
       "    </tr>\n",
       "    <tr>\n",
       "      <th>14112</th>\n",
       "      <td>5993</td>\n",
       "      <td>572</td>\n",
       "      <td>5</td>\n",
       "    </tr>\n",
       "    <tr>\n",
       "      <th>75220</th>\n",
       "      <td>5993</td>\n",
       "      <td>2007</td>\n",
       "      <td>3</td>\n",
       "    </tr>\n",
       "    <tr>\n",
       "      <th>4262</th>\n",
       "      <td>5993</td>\n",
       "      <td>7790</td>\n",
       "      <td>3</td>\n",
       "    </tr>\n",
       "    <tr>\n",
       "      <th>72874</th>\n",
       "      <td>5993</td>\n",
       "      <td>1713</td>\n",
       "      <td>5</td>\n",
       "    </tr>\n",
       "  </tbody>\n",
       "</table>\n",
       "<p>106462 rows × 3 columns</p>\n",
       "</div>"
      ],
      "text/plain": [
       "       user_id  book_id  Rating\n",
       "0            1       22       5\n",
       "14116        1     6773       5\n",
       "14122        1      373       5\n",
       "14144        1      187       4\n",
       "14259        1      985       4\n",
       "...        ...      ...     ...\n",
       "88643     5993     1145       3\n",
       "14112     5993      572       5\n",
       "75220     5993     2007       3\n",
       "4262      5993     7790       3\n",
       "72874     5993     1713       5\n",
       "\n",
       "[106462 rows x 3 columns]"
      ]
     },
     "execution_count": 25,
     "metadata": {},
     "output_type": "execute_result"
    }
   ],
   "source": [
    "Final_Ratings"
   ]
  },
  {
   "cell_type": "markdown",
   "metadata": {},
   "source": [
    "## Saving our new Dataframes as CSV files to be imported by our Recommendation System!"
   ]
  },
  {
   "cell_type": "code",
   "execution_count": 147,
   "metadata": {},
   "outputs": [],
   "source": [
    "bb.to_csv('Final_books.csv')\n",
    "Final_Ratings.to_csv('Final_ratings.csv')"
   ]
  }
 ],
 "metadata": {
  "kernelspec": {
   "display_name": "Python 3",
   "language": "python",
   "name": "python3"
  },
  "language_info": {
   "codemirror_mode": {
    "name": "ipython",
    "version": 3
   },
   "file_extension": ".py",
   "mimetype": "text/x-python",
   "name": "python",
   "nbconvert_exporter": "python",
   "pygments_lexer": "ipython3",
   "version": "3.7.6"
  }
 },
 "nbformat": 4,
 "nbformat_minor": 4
}
